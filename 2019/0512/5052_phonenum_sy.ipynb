{
 "cells": [
  {
   "cell_type": "code",
   "execution_count": 43,
   "metadata": {},
   "outputs": [
    {
     "name": "stdin",
     "output_type": "stream",
     "text": [
      " 2\n",
      " 3\n",
      " 911\n",
      " 97625999\n",
      " 91125426\n",
      " 5\n",
      " 113\n",
      " 12340\n",
      " 123440\n",
      " 12345\n",
      " 98346\n"
     ]
    },
    {
     "name": "stdout",
     "output_type": "stream",
     "text": [
      "NO\n",
      "YES\n"
     ]
    }
   ],
   "source": [
    "n = int(input())\n",
    "answers = []\n",
    "for _ in range(n):\n",
    "    m = int(input())\n",
    "    nums = []\n",
    "    breaker = False\n",
    "    for _ in range(m):\n",
    "        nums.append(input())\n",
    "    nums.sort(key=lambda x: len(x))\n",
    "    \n",
    "    for i, num in enumerate(nums):\n",
    "        if len(nums) != i+1:\n",
    "            for temp_num in nums[i+1:]:\n",
    "                if temp_num.find(num) >= 0:\n",
    "                    breaker = True\n",
    "                    answers.append(\"NO\")\n",
    "                    break\n",
    "            if breaker:\n",
    "                break\n",
    "        else:\n",
    "            answers.append(\"YES\")\n",
    "            \n",
    "for ans in answers:\n",
    "    print(ans)"
   ]
  }
 ],
 "metadata": {
  "kernelspec": {
   "display_name": "Python 3",
   "language": "python",
   "name": "python3"
  },
  "language_info": {
   "codemirror_mode": {
    "name": "ipython",
    "version": 3
   },
   "file_extension": ".py",
   "mimetype": "text/x-python",
   "name": "python",
   "nbconvert_exporter": "python",
   "pygments_lexer": "ipython3",
   "version": "3.6.6"
  }
 },
 "nbformat": 4,
 "nbformat_minor": 2
}
